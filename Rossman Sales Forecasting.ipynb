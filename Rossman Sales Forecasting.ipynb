{
  "cells": [
    {
      "cell_type": "code",
      "execution_count": null,
      "metadata": {
        "id": "cD8208KFoBX6"
      },
      "outputs": [],
      "source": [
        "import pandas as pd\n",
        "import numpy as np\n",
        "import matplotlib.pyplot as plt\n",
        "import seaborn as sns\n",
        "from dash import Dash, html, dcc\n",
        "import plotly.express as px\n",
        "import datetime\n",
        "from sklearn import model_selection\n",
        "from sklearn.metrics import mean_squared_error, r2_score\n",
        "from sklearn.experimental import enable_iterative_imputer\n",
        "from sklearn.impute import IterativeImputer\n",
        "from statsmodels.tsa.stattools import adfuller\n",
        "from statsmodels.tsa.stattools import acf,pacf\n",
        "from statsmodels.tsa.seasonal import seasonal_decompose\n",
        "import itertools\n",
        "import statsmodels.api as sm\n",
        "from sklearn.preprocessing import MinMaxScaler"
      ]
    },
    {
      "cell_type": "code",
      "execution_count": null,
      "metadata": {
        "colab": {
          "base_uri": "https://localhost:8080/"
        },
        "collapsed": true,
        "id": "3EtC3EzOq6B2",
        "outputId": "176e89d1-d3e1-43b5-f282-78a0d7e56d75"
      },
      "outputs": [],
      "source": [
        "train = pd.read_csv(r'dataset/train.csv', parse_dates=['Date'],index_col='Date')\n",
        "store = pd.read_csv(r'dataset/store.csv')\n",
        "test = pd.read_csv(r'dataset/test.csv')"
      ]
    },
    {
      "cell_type": "markdown",
      "metadata": {
        "id": "gIWvvzJMsjXF"
      },
      "source": [
        "# **Data Cleaning and EDA**"
      ]
    },
    {
      "cell_type": "markdown",
      "metadata": {
        "id": "fvXra-MkwXqL"
      },
      "source": [
        "***Train Dataset***"
      ]
    },
    {
      "cell_type": "code",
      "execution_count": null,
      "metadata": {
        "colab": {
          "base_uri": "https://localhost:8080/"
        },
        "id": "p5dQUElssBOF",
        "outputId": "a1f836b0-673a-4717-ded9-140b98fe8460"
      },
      "outputs": [],
      "source": [
        "train.shape"
      ]
    },
    {
      "cell_type": "code",
      "execution_count": null,
      "metadata": {
        "colab": {
          "base_uri": "https://localhost:8080/"
        },
        "id": "c9pgIGKLrdqy",
        "outputId": "9b2889f6-dbf0-4501-fb54-f626ed9387e6"
      },
      "outputs": [],
      "source": [
        "train.info()"
      ]
    },
    {
      "cell_type": "code",
      "execution_count": null,
      "metadata": {
        "colab": {
          "base_uri": "https://localhost:8080/",
          "height": 206
        },
        "id": "v12NdRzGruse",
        "outputId": "0f65f170-10f2-4cad-932b-33647545dc7c"
      },
      "outputs": [],
      "source": [
        "train.head()\n",
        "\n"
      ]
    },
    {
      "cell_type": "code",
      "execution_count": null,
      "metadata": {
        "colab": {
          "base_uri": "https://localhost:8080/",
          "height": 366
        },
        "id": "d6pGWlO6vvwn",
        "outputId": "ea503c0b-e743-4591-fc65-081c31ae2b57"
      },
      "outputs": [],
      "source": [
        "train.isnull().sum()"
      ]
    },
    {
      "cell_type": "code",
      "execution_count": null,
      "metadata": {},
      "outputs": [],
      "source": [
        "store.info()"
      ]
    },
    {
      "cell_type": "code",
      "execution_count": null,
      "metadata": {
        "colab": {
          "base_uri": "https://localhost:8080/",
          "height": 206
        },
        "id": "4e9Sq363r0RW",
        "outputId": "3d371f56-b725-4e48-cc90-981ef8cb119a"
      },
      "outputs": [],
      "source": [
        "# Extract Year, Month, Day columns\n",
        "train['Year'] = train.index.year\n",
        "train['Month'] = train.index.month\n",
        "train['Day'] = train.index.day\n",
        "train['WeekofYear'] = train.index.weekofyear\n",
        "train.head()"
      ]
    },
    {
      "cell_type": "code",
      "execution_count": null,
      "metadata": {
        "colab": {
          "base_uri": "https://localhost:8080/",
          "height": 363
        },
        "id": "qVpCrcOaswGY",
        "outputId": "2e29bb65-2b6c-4637-c733-4fd600a7e4c5"
      },
      "outputs": [],
      "source": [
        "# Create a new feature 'SalesPerCustomer' to measure average sales per customer\n",
        "train['SalesPerCustomer'] = train['Sales']/train['Customers']\n",
        "train.sample(10)"
      ]
    },
    {
      "cell_type": "code",
      "execution_count": null,
      "metadata": {
        "id": "RVV8kcfxuNH-"
      },
      "outputs": [],
      "source": [
        "# Fill all missing values in the dataset with 0\n",
        "train.fillna(value=0,inplace=True)"
      ]
    },
    {
      "cell_type": "code",
      "execution_count": null,
      "metadata": {
        "colab": {
          "base_uri": "https://localhost:8080/",
          "height": 335
        },
        "id": "TTRGi5rruPfR",
        "outputId": "64c8aecb-a9e7-40c0-879e-c7a379e3d821"
      },
      "outputs": [],
      "source": [
        "#Check for outlier\n",
        "pd.set_option('display.float_format', lambda x: '%.2f' % x)\n",
        "train['Sales'].describe()"
      ]
    },
    {
      "cell_type": "code",
      "execution_count": null,
      "metadata": {
        "colab": {
          "base_uri": "https://localhost:8080/",
          "height": 487
        },
        "id": "1fYhT6BZu89S",
        "outputId": "7c0503ca-f886-460f-c0ae-0ffd116aa869"
      },
      "outputs": [],
      "source": [
        "plt.figure(figsize=(8,5))\n",
        "sns.boxplot(data=train, x='Sales')\n",
        "plt.title('Boxplot of Sales (Outlier Detection)')\n",
        "plt.xlabel('Sales')\n",
        "plt.show()\n"
      ]
    },
    {
      "cell_type": "code",
      "execution_count": null,
      "metadata": {
        "colab": {
          "base_uri": "https://localhost:8080/"
        },
        "id": "geC_VmYEvRun",
        "outputId": "67aa7c3f-ef4c-446e-934c-225cdc6e823b"
      },
      "outputs": [],
      "source": [
        "# Detect outliers in the 'Sales' column using the Interquartile Range (IQR) method\n",
        "# Q1: 25th percentile, Q3: 75th percentile\n",
        "# IQR = Q3 - Q1\n",
        "# Any value below (Q1 - 1.5*IQR) or above (Q3 + 1.5*IQR) is considered an outlier\n",
        "\n",
        "Q1 = train['Sales'].quantile(0.25)\n",
        "Q3 = train['Sales'].quantile(0.75)\n",
        "IQR = Q3 - Q1\n",
        "\n",
        "# Calculate lower and upper bounds for detecting outliers\n",
        "lower_bound = Q1 - 1.5 * IQR\n",
        "upper_bound = Q3 + 1.5 * IQR\n",
        "\n",
        "# Filter out the rows that have outlier values in Sales\n",
        "outliers = train[(train['Sales'] < lower_bound) | (train['Sales'] > upper_bound)]\n",
        "\n",
        "# Display the number and percentage of outliers\n",
        "print(f\"Number of outliers: {len(outliers)}\")\n",
        "print(f\"Percentage of outliers: {len(outliers)/len(train)*100:.2f}%\")\n"
      ]
    },
    {
      "cell_type": "markdown",
      "metadata": {
        "id": "51tk4TeJwHuR"
      },
      "source": [
        "***Store Dataset***"
      ]
    },
    {
      "cell_type": "code",
      "execution_count": null,
      "metadata": {
        "colab": {
          "base_uri": "https://localhost:8080/"
        },
        "id": "bMwJa-mtwp3c",
        "outputId": "590961a0-064d-49eb-d46c-ba102f729dfd"
      },
      "outputs": [],
      "source": [
        "store.shape"
      ]
    },
    {
      "cell_type": "code",
      "execution_count": null,
      "metadata": {
        "colab": {
          "base_uri": "https://localhost:8080/"
        },
        "id": "BUxN5MWhwAXY",
        "outputId": "00beed94-5839-4699-9123-a69507585867"
      },
      "outputs": [],
      "source": [
        "store.info()"
      ]
    },
    {
      "cell_type": "code",
      "execution_count": null,
      "metadata": {
        "colab": {
          "base_uri": "https://localhost:8080/",
          "height": 383
        },
        "id": "vZRztnzawYU0",
        "outputId": "5da1363e-5e2a-47ee-a2d0-f0010bbe0a08"
      },
      "outputs": [],
      "source": [
        "store.head(10)"
      ]
    },
    {
      "cell_type": "code",
      "execution_count": null,
      "metadata": {
        "colab": {
          "base_uri": "https://localhost:8080/",
          "height": 398
        },
        "id": "cDD5fQA6vyei",
        "outputId": "c8df06b6-591e-4f20-f728-57f5159c7577"
      },
      "outputs": [],
      "source": [
        "store.isnull().sum()"
      ]
    },
    {
      "cell_type": "markdown",
      "metadata": {
        "id": "urErDGV7Qhgm"
      },
      "source": [
        "####**Data Merging**"
      ]
    },
    {
      "cell_type": "code",
      "execution_count": null,
      "metadata": {
        "id": "d2s9jExhw04L"
      },
      "outputs": [],
      "source": [
        "\n",
        "store_merged = pd.merge(train ,store, on = 'Store', how = 'left')\n"
      ]
    },
    {
      "cell_type": "code",
      "execution_count": null,
      "metadata": {
        "colab": {
          "base_uri": "https://localhost:8080/",
          "height": 412
        },
        "id": "DBriFxQq2JyQ",
        "outputId": "9f67d9ec-4cc1-496f-e0d4-1ea580e3be11"
      },
      "outputs": [],
      "source": [
        "store_merged.head(10)"
      ]
    },
    {
      "cell_type": "code",
      "execution_count": null,
      "metadata": {
        "colab": {
          "base_uri": "https://localhost:8080/"
        },
        "id": "iGlZjVxlx-Ze",
        "outputId": "f8e1d312-fda4-49fc-989f-90aa67256bd3"
      },
      "outputs": [],
      "source": [
        "store_merged.info()"
      ]
    },
    {
      "cell_type": "code",
      "execution_count": null,
      "metadata": {},
      "outputs": [],
      "source": [
        "store_merged['WeekofYear'].nunique()"
      ]
    },
    {
      "cell_type": "code",
      "execution_count": null,
      "metadata": {},
      "outputs": [],
      "source": [
        "store_merged['StoreType'].unique()"
      ]
    },
    {
      "cell_type": "code",
      "execution_count": null,
      "metadata": {},
      "outputs": [],
      "source": [
        "store_merged['StateHoliday'].unique()"
      ]
    },
    {
      "cell_type": "code",
      "execution_count": null,
      "metadata": {},
      "outputs": [],
      "source": [
        "store_merged['StoreType'].unique() "
      ]
    },
    {
      "cell_type": "code",
      "execution_count": null,
      "metadata": {},
      "outputs": [],
      "source": [
        "store_merged['Assortment'].unique()  "
      ]
    },
    {
      "cell_type": "code",
      "execution_count": null,
      "metadata": {},
      "outputs": [],
      "source": [
        "store_merged['PromoInterval'].unique()  "
      ]
    },
    {
      "cell_type": "code",
      "execution_count": null,
      "metadata": {
        "colab": {
          "base_uri": "https://localhost:8080/",
          "height": 711
        },
        "id": "KSFHtyRh1Ka9",
        "outputId": "1a6d64b0-783a-4d30-e937-85301e35efc2"
      },
      "outputs": [],
      "source": [
        "#asking data is their any null values\n",
        "store_merged.isnull().sum()"
      ]
    },
    {
      "cell_type": "markdown",
      "metadata": {
        "id": "GHEUrfWnQ6ck"
      },
      "source": [
        "###**Handling missing data through imputation**"
      ]
    },
    {
      "cell_type": "code",
      "execution_count": null,
      "metadata": {},
      "outputs": [],
      "source": [
        "store_merged['PromoInterval'].fillna('0',inplace=True)"
      ]
    },
    {
      "cell_type": "code",
      "execution_count": null,
      "metadata": {},
      "outputs": [],
      "source": [
        "store_merged['PromoInterval'] = store_merged['PromoInterval'].astype(str)\n",
        "\n",
        "months = ['Jan', 'Feb', 'Mar', 'Apr', 'May', 'Jun', \n",
        "          'Jul', 'Aug', 'Sept', 'Oct', 'Nov', 'Dec']\n",
        "\n",
        "for month in months:\n",
        "    store_merged[f'Promo_{month}'] = store_merged['PromoInterval'].apply(lambda x: 1 if month in x else 0)"
      ]
    },
    {
      "cell_type": "code",
      "execution_count": null,
      "metadata": {},
      "outputs": [],
      "source": [
        "store_merged.drop(columns=['PromoInterval'], inplace=True)"
      ]
    },
    {
      "cell_type": "code",
      "execution_count": null,
      "metadata": {},
      "outputs": [],
      "source": [
        "store_merged.sample(10)"
      ]
    },
    {
      "cell_type": "code",
      "execution_count": null,
      "metadata": {
        "id": "4zCIquiQ5xB1"
      },
      "outputs": [],
      "source": [
        "# Handle CompetitionDistance\n",
        "store_merged['CompetitionDistance'] = store_merged['CompetitionDistance'].fillna(200000)\n",
        "\n",
        "# Logical zeros for stores with no competition or promo\n",
        "store_merged.loc[store_merged['CompetitionDistance'] == 200000, \n",
        "           ['CompetitionOpenSinceMonth', 'CompetitionOpenSinceYear']] = 0\n",
        "\n",
        "store_merged.loc[store_merged['Promo2'] == 0, \n",
        "           ['Promo2SinceWeek', 'Promo2SinceYear']] = 0\n",
        "\n",
        "# Iterative imputation for remaining valid gaps\n",
        "cols_to_impute = ['CompetitionOpenSinceMonth', 'CompetitionOpenSinceYear',\n",
        "                  'Promo2SinceWeek', 'Promo2SinceYear']\n",
        "\n",
        "imputer = IterativeImputer(random_state=42)\n",
        "store_merged[cols_to_impute] = imputer.fit_transform(store_merged[cols_to_impute])\n"
      ]
    },
    {
      "cell_type": "code",
      "execution_count": null,
      "metadata": {},
      "outputs": [],
      "source": [
        "store_merged['CompetitionOpenSinceYear'].sample(10)"
      ]
    },
    {
      "cell_type": "code",
      "execution_count": null,
      "metadata": {},
      "outputs": [],
      "source": [
        "store_merged['CompetitionOpenSinceMonth'].sample(10)"
      ]
    },
    {
      "cell_type": "code",
      "execution_count": null,
      "metadata": {},
      "outputs": [],
      "source": [
        "store_merged['CompetitionOpenSinceMonth'] = store_merged['CompetitionOpenSinceMonth'].astype(int)\n",
        "store_merged['CompetitionOpenSinceYear'] = store_merged['CompetitionOpenSinceYear'].astype(int)"
      ]
    },
    {
      "cell_type": "code",
      "execution_count": null,
      "metadata": {},
      "outputs": [],
      "source": [
        "store_merged['CompetitionOpenSinceMonth'].sample(10)"
      ]
    },
    {
      "cell_type": "code",
      "execution_count": null,
      "metadata": {},
      "outputs": [],
      "source": [
        "store_merged['CompetitionOpenSinceMonth'].sample(10)"
      ]
    },
    {
      "cell_type": "code",
      "execution_count": null,
      "metadata": {
        "colab": {
          "base_uri": "https://localhost:8080/"
        },
        "id": "Wacsp0eIAy1-",
        "outputId": "a35b4c48-198e-4da4-8863-90992bc8071c"
      },
      "outputs": [],
      "source": [
        "# Clean StateHoliday column\n",
        "# Replace the string '0' with numeric 0 to standardize data types\n",
        "store_merged['StateHoliday'].replace(to_replace='0',value=0,inplace=True)\n",
        "store_merged[\"StateHoliday\"].unique()"
      ]
    },
    {
      "cell_type": "code",
      "execution_count": null,
      "metadata": {},
      "outputs": [],
      "source": [
        "# StateHoliday , StoreType , Assortment are still category columns and need to transform with one hot encoding/label encoder for training.\n",
        "store_merged.info()"
      ]
    },
    {
      "cell_type": "code",
      "execution_count": null,
      "metadata": {},
      "outputs": [],
      "source": [
        "store_merged.info()"
      ]
    },
    {
      "cell_type": "markdown",
      "metadata": {
        "id": "CsLKbIw-RREd"
      },
      "source": [
        "####**How many days sales equal zero.**"
      ]
    },
    {
      "cell_type": "code",
      "execution_count": null,
      "metadata": {
        "colab": {
          "base_uri": "https://localhost:8080/"
        },
        "id": "CVK5QLV8-ooO",
        "outputId": "32cb17d4-3f8b-4b7d-d7bb-01790567e3d3"
      },
      "outputs": [],
      "source": [
        "#check how many sales value has zero\n",
        "print(store_merged[store_merged['Sales'] == 0].shape[0])"
      ]
    },
    {
      "cell_type": "code",
      "execution_count": null,
      "metadata": {},
      "outputs": [],
      "source": [
        "store_merged.sample(10)"
      ]
    },
    {
      "cell_type": "code",
      "execution_count": null,
      "metadata": {
        "colab": {
          "base_uri": "https://localhost:8080/",
          "height": 269
        },
        "id": "1UribMyA_ovI",
        "outputId": "ef51c07a-b195-40cd-df85-3e1f53eed81a"
      },
      "outputs": [],
      "source": [
        "#investigate the reason why we have many sales equal zero\n",
        "zero_sales = store_merged[store_merged['Sales'] == 0]\n",
        "group_days = zero_sales.groupby('DayOfWeek')['Sales'].size().reset_index(name='ZeroSalesCount')\n",
        "group_days"
      ]
    },
    {
      "cell_type": "code",
      "execution_count": null,
      "metadata": {
        "colab": {
          "base_uri": "https://localhost:8080/",
          "height": 676
        },
        "id": "oXrsId4H7kIi",
        "outputId": "a38afba9-c0e7-4794-bfdb-5af05b1ff03a"
      },
      "outputs": [],
      "source": [
        "# Group zero sales by DayOfWeek\n",
        "zero_sales = store_merged[store_merged['Sales'] == 0]\n",
        "group_days = zero_sales.groupby('DayOfWeek')['Sales'].size().reset_index(name='ZeroSalesCount')\n",
        "\n",
        "# Sort values by day to make the chart more readable\n",
        "group_days = group_days.sort_values(by='DayOfWeek')\n",
        "\n",
        "# Plot bar chart\n",
        "plt.figure(figsize=(10,6))\n",
        "sns.barplot(x='DayOfWeek', y='ZeroSalesCount', data=group_days, palette='viridis')\n",
        "\n",
        "plt.title('Number of Zero Sales per Day of the Week', fontsize=14)\n",
        "plt.xlabel('Day of Week', fontsize=12)\n",
        "plt.ylabel('Zero Sales Count', fontsize=12)\n",
        "plt.xticks(rotation=0)\n",
        "plt.grid(axis='y', linestyle='--', alpha=0.7)\n",
        "plt.show()\n"
      ]
    },
    {
      "cell_type": "markdown",
      "metadata": {
        "id": "uPd8zzImANCx"
      },
      "source": [
        "We found that the maximum day with highest zero sales was the 7th day"
      ]
    },
    {
      "cell_type": "markdown",
      "metadata": {
        "id": "M8gxSAcpDIqA"
      },
      "source": [
        "# **General plots and Visualizations**\n",
        "- Sales distribution by year\n",
        "- Monthly trend sales by year.\n",
        "- Total sales by month.\n",
        "- Average sales per day of the week.\n",
        "- Daily sales trend\n",
        "- Effect of Promotions on Average Sales.\n",
        "- Total Sales by Store Type.\n",
        "- The impact of the state holidays on average sales.\n",
        "- The number of open and closed days for each store type\n",
        "- Correlation Heatmap\n",
        "- Number of stores by year.\n",
        "- Number of stores opened each month."
      ]
    },
    {
      "cell_type": "code",
      "execution_count": null,
      "metadata": {
        "colab": {
          "base_uri": "https://localhost:8080/",
          "height": 542
        },
        "id": "uDtMnME-KJTA",
        "outputId": "fa458640-7f97-4d5a-a6eb-be1c09880da1"
      },
      "outputs": [],
      "source": [
        "#Sales distribution by year\n",
        "fig = px.pie(store_merged, values='Sales', names='Year',title=\"Sales by year\")\n",
        "fig.show()"
      ]
    },
    {
      "cell_type": "markdown",
      "metadata": {
        "id": "SONmuuRJKZ1w"
      },
      "source": [
        "Stores are open more often in 2013 and 2014 than 2015 which is even more explained in the sales being highest at 2013 and lowest at 2015."
      ]
    },
    {
      "cell_type": "code",
      "execution_count": null,
      "metadata": {
        "colab": {
          "base_uri": "https://localhost:8080/",
          "height": 487
        },
        "id": "jaIat6AOKrfs",
        "outputId": "73d08673-fd7c-441e-93f2-f4d2e583a844"
      },
      "outputs": [],
      "source": [
        "# Monthly trend sales by year\n",
        "monthly_sales = store_merged.groupby(['Year','Month'])['Sales'].sum().reset_index()\n",
        "plt.figure(figsize=(14,5))\n",
        "sns.lineplot(data=monthly_sales, x='Month', y='Sales', hue='Year', marker='o')\n",
        "plt.title(' Monthly Sales Trend by Year')\n",
        "plt.xlabel('Month')\n",
        "plt.ylabel('Total Sales')\n",
        "plt.show()\n"
      ]
    },
    {
      "cell_type": "code",
      "execution_count": null,
      "metadata": {
        "colab": {
          "base_uri": "https://localhost:8080/",
          "height": 488
        },
        "id": "pr-HDPUv_O_J",
        "outputId": "33e789b5-48e9-43d1-c6fa-d92517af8e0b"
      },
      "outputs": [],
      "source": [
        "# Total sales by month to identify seasonal patterns\n",
        "\n",
        "plt.figure(figsize=(6,5))\n",
        "store_merged.groupby('Month')['Sales'].sum().plot(kind='bar', color='skyblue')\n",
        "plt.title('Total Sales by Month', fontsize=14)\n",
        "plt.ylabel('Total Sales')\n",
        "plt.xlabel('Month')\n",
        "plt.xticks(rotation=0)\n",
        "plt.show()\n"
      ]
    },
    {
      "cell_type": "code",
      "execution_count": null,
      "metadata": {
        "colab": {
          "base_uri": "https://localhost:8080/",
          "height": 542
        },
        "id": "K8Eb6T-COqye",
        "outputId": "4acceae4-6a7e-4d32-86ab-4a7b53c7aa63"
      },
      "outputs": [],
      "source": [
        "fig = px.pie(store_merged, values='Sales', names='Month',title='sales per month')\n",
        "fig.show()"
      ]
    },
    {
      "cell_type": "markdown",
      "metadata": {
        "id": "bNeQqu5KJh5M"
      },
      "source": [
        "Sales are highest in march and lowest in septemper and just like said previously sales decrease in the last 5 months beginning with august."
      ]
    },
    {
      "cell_type": "code",
      "execution_count": null,
      "metadata": {
        "colab": {
          "base_uri": "https://localhost:8080/",
          "height": 488
        },
        "id": "DtxU7fzz_Zur",
        "outputId": "07170c01-a4ff-4135-8bef-84cb0b8f6da9"
      },
      "outputs": [],
      "source": [
        "# Average sales per day of the week\n",
        "##“Which days of the week have higher average sales?”\n",
        "\n",
        "plt.figure(figsize=(6,5))\n",
        "store_merged.groupby('DayOfWeek')['Sales'].mean().plot(kind='bar', color='lightgreen')\n",
        "plt.title('Average Sales by Day of the Week', fontsize=14)\n",
        "plt.ylabel('Average Sales')\n",
        "plt.xlabel('Day of the Week')\n",
        "plt.xticks(rotation=0)\n",
        "plt.show()\n"
      ]
    },
    {
      "cell_type": "code",
      "execution_count": null,
      "metadata": {
        "colab": {
          "base_uri": "https://localhost:8080/",
          "height": 487
        },
        "id": "2gxmhe0HMwHA",
        "outputId": "7e271890-bbab-4265-95d6-a5e40b86b342"
      },
      "outputs": [],
      "source": [
        "# Daily sales trend\n",
        "daily_sales = store_merged.groupby('Day')['Sales'].sum().reset_index()\n",
        "plt.figure(figsize=(14,5))\n",
        "sns.lineplot(data=daily_sales, x='Day', y='Sales')\n",
        "plt.title(' Daily Sales Trend')\n",
        "plt.xlabel('Day')\n",
        "plt.ylabel('Total Sales')\n",
        "plt.show()\n",
        "\n"
      ]
    },
    {
      "cell_type": "markdown",
      "metadata": {
        "id": "6WKhc29_G25V"
      },
      "source": [
        "## Compare sales with and without promo"
      ]
    },
    {
      "cell_type": "code",
      "execution_count": null,
      "metadata": {
        "colab": {
          "base_uri": "https://localhost:8080/"
        },
        "id": "V6mdM6-nMjE2",
        "outputId": "c1a98fb3-c660-46e2-97f2-1d1c31327bec"
      },
      "outputs": [],
      "source": [
        "promo_sales = store_merged.groupby('Promo')['Sales'].mean().reset_index()\n",
        "print(promo_sales)"
      ]
    },
    {
      "cell_type": "code",
      "execution_count": null,
      "metadata": {
        "colab": {
          "base_uri": "https://localhost:8080/",
          "height": 594
        },
        "id": "sOucCwA3MtAY",
        "outputId": "c1590221-921f-4962-f3b0-95c2cac1eeef"
      },
      "outputs": [],
      "source": [
        "\n",
        "plt.figure(figsize=(6,5))\n",
        "sns.barplot(data=promo_sales, x='Promo', y='Sales', palette='viridis')\n",
        "plt.title('Effect of Promotions on Average Sales')\n",
        "plt.ylabel('Average Sales')\n",
        "plt.xticks([0, 1], ['No Promo', 'Promo'])\n",
        "plt.show()"
      ]
    },
    {
      "cell_type": "markdown",
      "metadata": {
        "id": "BArgLezrFBzU"
      },
      "source": [
        "### Total Sales by Store Type\n",
        " **“Which store type contributes most to sales?”**  \n",
        "\n",
        "\n",
        "- `a` → Large stores (hypermarkets or big supermarkets) with high sales.  \n",
        "- `b` → Medium-sized supermarkets with moderate traffic.  \n",
        "- `c` → Small neighborhood stores with lower sales but frequent customers.  \n",
        "- `d` → Specialized or discount stores with varying performance.\n"
      ]
    },
    {
      "cell_type": "code",
      "execution_count": null,
      "metadata": {
        "colab": {
          "base_uri": "https://localhost:8080/",
          "height": 582
        },
        "id": "jy9w8zoZFBaG",
        "outputId": "1e2d8ea8-f9b3-4c51-9472-9aba65758f4c"
      },
      "outputs": [],
      "source": [
        "# Group the data by StoreType and sum Sales, Customers, and SalesPerCustomer\n",
        "plt.figure(figsize=(6,5))\n",
        "store_merged.groupby('StoreType')[['Sales', 'Customers', 'SalesPerCustomer']]\\\n",
        "    .sum().sort_values('Sales', ascending=False)\\\n",
        "    .plot(kind='bar', figsize=(10,6))\n",
        "plt.title('Sales by Store Type', fontsize=14)\n",
        "plt.ylabel('Total')\n",
        "plt.xlabel('Store Type')\n",
        "plt.xticks(rotation=0)\n",
        "plt.show()\n",
        "\n"
      ]
    },
    {
      "cell_type": "markdown",
      "metadata": {
        "id": "NQaWajYqGcc0"
      },
      "source": [
        "we see that store type a has the most number of sales and customers while store type b has the least"
      ]
    },
    {
      "cell_type": "code",
      "execution_count": null,
      "metadata": {
        "colab": {
          "base_uri": "https://localhost:8080/",
          "height": 594
        },
        "id": "YCq_MqlBFNMc",
        "outputId": "a0039004-7b8a-4960-94c2-0e9aa6fcf70b"
      },
      "outputs": [],
      "source": [
        "#  bar plot for total sales by store type for a clearer view.\n",
        "store_type_sales = store_merged.groupby('StoreType')['Sales'].sum().reset_index().sort_values('Sales', ascending=False)\n",
        "\n",
        "plt.figure(figsize=(6,5))\n",
        "sns.barplot(data=store_type_sales, x='StoreType', y='Sales', palette='Blues')\n",
        "plt.title('Total Sales by Store Type')\n",
        "plt.xlabel('Store Type')\n",
        "plt.ylabel('Total Sales')\n",
        "plt.show()"
      ]
    },
    {
      "cell_type": "code",
      "execution_count": null,
      "metadata": {
        "colab": {
          "base_uri": "https://localhost:8080/",
          "height": 206
        },
        "id": "Oakyx28fKSd9",
        "outputId": "61cedee0-3415-4cc3-938b-dad313d62139"
      },
      "outputs": [],
      "source": [
        "#Which stores have the highest and lowest sales?\n",
        "store_merged.groupby('StoreType')[['Customers', 'Sales', 'SalesPerCustomer']].sum().sort_values('Sales', ascending=False)\n",
        "\n"
      ]
    },
    {
      "cell_type": "markdown",
      "metadata": {
        "id": "amBtMJ_GFmDY"
      },
      "source": [
        "###  The impact of state holidays on average sales to understand seasonal\n",
        "\n",
        "- `0` → No holiday (a regular business day).\n",
        "- `a` → Public holiday (e.g., national or state-level holidays).\n",
        "- `b`→ Easter holiday (a special holiday period around Easter).\n",
        "- `c`→ Christmas holiday (the holiday period around Christmas)."
      ]
    },
    {
      "cell_type": "code",
      "execution_count": null,
      "metadata": {
        "colab": {
          "base_uri": "https://localhost:8080/",
          "height": 594
        },
        "id": "1RnD47mnCUme",
        "outputId": "0bd59b93-b9ca-410b-ee9a-06724c681198"
      },
      "outputs": [],
      "source": [
        "# Visualization of the impact of state holidays on average sales .\n",
        "\n",
        "plt.figure(figsize=(8,5))\n",
        "sns.barplot(data=store_merged, x='StateHoliday', y='Sales', estimator='mean', palette='viridis')\n",
        "plt.title('Average Sales by State Holiday Type')\n",
        "plt.xlabel('State Holiday Type')\n",
        "plt.ylabel('Average Sales')\n",
        "plt.show()"
      ]
    },
    {
      "cell_type": "code",
      "execution_count": null,
      "metadata": {
        "colab": {
          "base_uri": "https://localhost:8080/"
        },
        "id": "azA1oXVhJl7K",
        "outputId": "f6f060f6-49ff-4992-f48f-1a2d92be13e1"
      },
      "outputs": [],
      "source": [
        "#Showing number of the days where the store is opened and the sales = 0.\n",
        "store_merged[(store_merged.Open == 1) & (store_merged.Sales == 0)].shape[0]"
      ]
    },
    {
      "cell_type": "markdown",
      "metadata": {
        "id": "_EoDPzosKdQn"
      },
      "source": [
        "There is a small number of days in which the store was open and yet there were no sales."
      ]
    },
    {
      "cell_type": "markdown",
      "metadata": {
        "id": "siTtCYpcOavI"
      },
      "source": [
        "**Count the number of open and closed days for each store type**"
      ]
    },
    {
      "cell_type": "code",
      "execution_count": null,
      "metadata": {
        "colab": {
          "base_uri": "https://localhost:8080/",
          "height": 390
        },
        "id": "ORz2NrEtLaOM",
        "outputId": "10e176f0-8e08-4c04-a4b6-2b63984da61d"
      },
      "outputs": [],
      "source": [
        "open_days = store_merged.groupby(['StoreType', 'Open']).size().reset_index(name='Days')\n",
        "open_days.head(10)"
      ]
    },
    {
      "cell_type": "code",
      "execution_count": null,
      "metadata": {
        "colab": {
          "base_uri": "https://localhost:8080/",
          "height": 487
        },
        "id": "onIgPIaUMYbe",
        "outputId": "8aafb13e-4e85-4345-f2a7-bc23b2ab0c33"
      },
      "outputs": [],
      "source": [
        "plt.figure(figsize=(8,5))\n",
        "sns.barplot(data=open_days, x='StoreType', y='Days', hue='Open')\n",
        "\n",
        "plt.title('Days Open vs Closed by Store Type')\n",
        "plt.xlabel('Store Type')\n",
        "plt.ylabel('Number of Days')\n",
        "plt.legend(title='Open', labels=['Closed (0)', 'Open (1)'])\n",
        "plt.show()"
      ]
    },
    {
      "cell_type": "markdown",
      "metadata": {
        "id": "3PtqdPEQMeC8"
      },
      "source": [
        "we can see that store b had the least number of open days and is far less represented in the dataset compared to the other stores followed closely by store c"
      ]
    },
    {
      "cell_type": "code",
      "execution_count": null,
      "metadata": {
        "colab": {
          "base_uri": "https://localhost:8080/",
          "height": 546
        },
        "id": "Y4cdmXxKAUnR",
        "outputId": "7cefaaab-4538-4a15-f98a-d863e586a8d0"
      },
      "outputs": [],
      "source": [
        "#  Correlation Heatmap\n",
        "\n",
        "##“What variables are most correlated with sales?”\n",
        "\n",
        "plt.figure(figsize=(10,6))\n",
        "corr_matrix = store_merged[['Sales','Customers','SalesPerCustomer','Promo']].corr()\n",
        "sns.heatmap(corr_matrix, annot=True, cmap='coolwarm', fmt=\".2f\")\n",
        "plt.title('Correlation Heatmap', fontsize=14)\n",
        "plt.show()\n"
      ]
    },
    {
      "cell_type": "code",
      "execution_count": null,
      "metadata": {
        "colab": {
          "base_uri": "https://localhost:8080/",
          "height": 542
        },
        "id": "lKXSX9jfMzu3",
        "outputId": "06695f13-8456-4572-db37-f8abd4b8f2b5"
      },
      "outputs": [],
      "source": [
        "#Number of stores opened by year\n",
        "fig = px.pie(store_merged, values='Open', names='Year')\n",
        "fig.show()"
      ]
    },
    {
      "cell_type": "markdown",
      "metadata": {
        "id": "BwUn8yOmN8WS"
      },
      "source": [
        "stores have been opening less each year with the highest number of store opened in 2013 and lowest being in 2015"
      ]
    },
    {
      "cell_type": "code",
      "execution_count": null,
      "metadata": {
        "colab": {
          "base_uri": "https://localhost:8080/",
          "height": 564
        },
        "id": "bOCJ45YVOOJu",
        "outputId": "dbf42a3f-f3cd-4226-9331-f300c7614c3e"
      },
      "outputs": [],
      "source": [
        "#Number of stores opened each month.\n",
        "plt.figure(figsize=(10, 6));\n",
        "sns.countplot(x='Month', hue='Open', data=store_merged);\n",
        "plt.title(\"stores open each month\")\n",
        "plt.show()"
      ]
    },
    {
      "cell_type": "markdown",
      "metadata": {
        "id": "794_NdbtOdHe"
      },
      "source": [
        "stores open on average consistently each month with the exception of the last 5 months where there is a notable drop off in general datapoints."
      ]
    },
    {
      "cell_type": "markdown",
      "metadata": {},
      "source": [
        "###  preprocessing data for training \n"
      ]
    },
    {
      "cell_type": "code",
      "execution_count": null,
      "metadata": {},
      "outputs": [],
      "source": [
        "# Define numeric and categorical columns\n",
        "numeric_cols = [\n",
        "    'Sales', 'Customers', 'Day', 'Month',\n",
        "    'CompetitionDistance', 'CompetitionOpenSinceMonth', 'CompetitionOpenSinceYear',\n",
        "    'Promo2SinceWeek', 'Promo2SinceYear', 'Year','WeekofYear','DayOfWeek'\n",
        "]\n",
        "\n",
        "categorical_cols = ['StoreType', 'Assortment', 'StateHoliday']"
      ]
    },
    {
      "cell_type": "code",
      "execution_count": null,
      "metadata": {},
      "outputs": [],
      "source": [
        "store_merged = pd.get_dummies(store_merged, columns=categorical_cols, prefix=categorical_cols) "
      ]
    },
    {
      "cell_type": "code",
      "execution_count": null,
      "metadata": {},
      "outputs": [],
      "source": [
        "store_merged_scaled = store_merged.copy()\n",
        "scaler = MinMaxScaler()\n",
        "store_merged_scaled[numeric_cols] = scaler.fit_transform(store_merged_scaled[numeric_cols])"
      ]
    },
    {
      "cell_type": "code",
      "execution_count": null,
      "metadata": {},
      "outputs": [],
      "source": [
        "store_merged_scaled.sample(10)"
      ]
    },
    {
      "cell_type": "code",
      "execution_count": null,
      "metadata": {},
      "outputs": [],
      "source": [
        "store_merged_scaled.info()"
      ]
    },
    {
      "cell_type": "code",
      "execution_count": null,
      "metadata": {},
      "outputs": [],
      "source": [
        "store_merged[numeric_cols] = store_merged[numeric_cols].astype('float32')\n",
        "store_merged = store_merged.astype({col: 'float32' for col in store_merged.select_dtypes('uint8').columns})\n",
        "store_merged_scaled[numeric_cols] = store_merged_scaled[numeric_cols].astype('float32')\n",
        "store_merged_scaled = store_merged_scaled.astype({col: 'float32' for col in store_merged_scaled.select_dtypes('uint8').columns})"
      ]
    },
    {
      "cell_type": "code",
      "execution_count": null,
      "metadata": {},
      "outputs": [],
      "source": [
        "store_merged_scaled.columns"
      ]
    },
    {
      "cell_type": "code",
      "execution_count": null,
      "metadata": {},
      "outputs": [],
      "source": [
        "drop_cols = ['Store', 'Sales', 'Customers', 'SalesPerCustomer']\n",
        "X = store_merged.drop(columns=drop_cols)\n",
        "y = store_merged['Sales']\n"
      ]
    },
    {
      "cell_type": "code",
      "execution_count": null,
      "metadata": {},
      "outputs": [],
      "source": [
        "print(X.shape,y.shape)"
      ]
    },
    {
      "cell_type": "markdown",
      "metadata": {},
      "source": [
        "###  Testing data for stationarity \n"
      ]
    },
    {
      "cell_type": "code",
      "execution_count": null,
      "metadata": {},
      "outputs": [],
      "source": [
        "sales_a = train[train.Store == 2]['Sales']\n",
        "sales_b = train[train.Store == 85]['Sales'].sort_index(ascending = True) \n",
        "sales_c = train[train.Store == 1]['Sales']\n",
        "sales_d = train[train.Store == 13]['Sales']\n",
        "\n",
        "frame, (ax1, ax2, ax3, ax4) = plt.subplots(4, figsize = (20, 16))\n",
        "\n",
        "# Visualize Trend \n",
        "sales_a.resample('w').sum().plot(ax = ax1)\n",
        "sales_b.resample('w').sum().plot(ax = ax2)\n",
        "sales_c.resample('w').sum().plot(ax = ax3)\n",
        "sales_d.resample('w').sum().plot(ax = ax4)\n"
      ]
    },
    {
      "cell_type": "code",
      "execution_count": null,
      "metadata": {},
      "outputs": [],
      "source": [
        "def test_stationarity(timeseries):\n",
        "    # Determine rolling statestics \n",
        "    roll_mean = timeseries.rolling(window=7).mean()\n",
        "    roll_std = timeseries.rolling(window=7).std()\n",
        "    \n",
        "    # plotting rolling statestics \n",
        "    plt.subplots(figsize = (16, 6))\n",
        "    orginal = plt.plot(timeseries.resample('w').mean(), color='blue',linewidth= 3, label='Orginal')\n",
        "    roll_mean = plt.plot(roll_mean.resample('w').mean(), color='red',linewidth= 3, label='Rolling Mean')\n",
        "    roll_mean = plt.plot(roll_std.resample('w').mean(), color='green',linewidth= 3, label='Rolling Std')\n",
        "    \n",
        "    plt.legend(loc='best')\n",
        "    plt.show()\n",
        "    \n",
        "    # Performing Dickey-Fuller test \n",
        "    print('Results of Dickey-Fuller test:')\n",
        "    result= adfuller(timeseries, autolag='AIC')\n",
        "    \n",
        "    print('ADF Statistics: %f' %result[0])\n",
        "    print('P-value: %f' %result[1])\n",
        "    print('Critical Values:')\n",
        "    for key, value in result[4].items():\n",
        "        print(key, value)"
      ]
    },
    {
      "cell_type": "code",
      "execution_count": null,
      "metadata": {},
      "outputs": [],
      "source": [
        "test_stationarity(sales_a)"
      ]
    },
    {
      "cell_type": "code",
      "execution_count": null,
      "metadata": {},
      "outputs": [],
      "source": [
        "test_stationarity(sales_b)"
      ]
    },
    {
      "cell_type": "code",
      "execution_count": null,
      "metadata": {},
      "outputs": [],
      "source": [
        "test_stationarity(sales_c)"
      ]
    },
    {
      "cell_type": "code",
      "execution_count": null,
      "metadata": {},
      "outputs": [],
      "source": [
        "test_stationarity(sales_d)"
      ]
    },
    {
      "cell_type": "markdown",
      "metadata": {},
      "source": [
        "From above charts we could deduct that, mean and variance of the data do not change most of the time. So, we do not compute any transformation as the data is already stationary.\n"
      ]
    },
    {
      "cell_type": "code",
      "execution_count": null,
      "metadata": {},
      "outputs": [],
      "source": [
        "def plot_timeseries(sales,StoreType):\n",
        "\n",
        "    fig, axes = plt.subplots(2, 1, sharex=True, sharey=False)\n",
        "    fig.set_figheight(6)\n",
        "    fig.set_figwidth(20)\n",
        "\n",
        "    decomposition= seasonal_decompose(sales, model = 'additive',period=365)\n",
        "\n",
        "    estimated_trend = decomposition.trend\n",
        "    estimated_seasonal = decomposition.seasonal\n",
        "    estimated_residual = decomposition.resid\n",
        "    \n",
        "    axes[1].plot(estimated_seasonal, 'g', label='Seasonality')\n",
        "    axes[1].legend(loc='upper left');\n",
        "    \n",
        "    axes[0].plot(estimated_trend, label='Trend')\n",
        "    axes[0].legend(loc='upper left');\n",
        "\n",
        "    plt.title('Decomposition Plots')"
      ]
    },
    {
      "cell_type": "code",
      "execution_count": null,
      "metadata": {},
      "outputs": [],
      "source": [
        "plot_timeseries(sales_a, 'a')"
      ]
    },
    {
      "cell_type": "code",
      "execution_count": null,
      "metadata": {},
      "outputs": [],
      "source": [
        "plot_timeseries(sales_b, 'b')"
      ]
    },
    {
      "cell_type": "code",
      "execution_count": null,
      "metadata": {},
      "outputs": [],
      "source": [
        "plot_timeseries(sales_c, 'c')"
      ]
    },
    {
      "cell_type": "code",
      "execution_count": null,
      "metadata": {},
      "outputs": [],
      "source": [
        "plot_timeseries(sales_d, 'd')"
      ]
    },
    {
      "cell_type": "markdown",
      "metadata": {},
      "source": [
        "From the above plots, we can see that there is seasonality and trends present in our data. So, we'll use forecasting models that take both of these factors into consideration."
      ]
    },
    {
      "cell_type": "code",
      "execution_count": null,
      "metadata": {},
      "outputs": [],
      "source": [
        "def auto_corr(sales):\n",
        "    lag_acf = acf(sales, nlags=30)\n",
        "    lag_pacf = pacf(sales, nlags=20, method='ols')\n",
        "    \n",
        "    plt.figure(figsize=(10,5))\n",
        "    \n",
        "    plt.subplot(121)\n",
        "    plt.plot(lag_acf)\n",
        "    plt.axhline(y=0, linestyle='--', color='red')\n",
        "    plt.axhline(y=1.96/np.sqrt(len(sales)), linestyle='--', color='red')\n",
        "    plt.axhline(y=-1.96/np.sqrt(len(sales)), linestyle='--', color='red')\n",
        "    plt.title('Autocorrelation (ACF)')\n",
        "    \n",
        "    plt.subplot(122)\n",
        "    plt.plot(lag_pacf)\n",
        "    plt.axhline(y=0, linestyle='--', color='red')\n",
        "    plt.axhline(y=1.96/np.sqrt(len(sales)), linestyle='--', color='red')\n",
        "    plt.axhline(y=-1.96/np.sqrt(len(sales)), linestyle='--', color='red')\n",
        "    plt.title('Partial Autocorrelation (PACF)')\n",
        "    \n",
        "    plt.tight_layout()\n",
        "    plt.show()\n"
      ]
    },
    {
      "cell_type": "code",
      "execution_count": null,
      "metadata": {},
      "outputs": [],
      "source": [
        "auto_corr(sales_a)\n"
      ]
    },
    {
      "cell_type": "code",
      "execution_count": null,
      "metadata": {},
      "outputs": [],
      "source": [
        "auto_corr(sales_b)"
      ]
    },
    {
      "cell_type": "code",
      "execution_count": null,
      "metadata": {},
      "outputs": [],
      "source": [
        "auto_corr(sales_c)"
      ]
    },
    {
      "cell_type": "code",
      "execution_count": null,
      "metadata": {},
      "outputs": [],
      "source": [
        "auto_corr(sales_d)"
      ]
    },
    {
      "cell_type": "code",
      "execution_count": null,
      "metadata": {},
      "outputs": [],
      "source": [
        "train_arima = train.resample('w').mean()\n",
        "train_arima = train_arima[['Sales']]\n",
        "train_arima.plot()"
      ]
    },
    {
      "cell_type": "markdown",
      "metadata": {},
      "source": [
        "### First model : SARIMAX"
      ]
    },
    {
      "cell_type": "code",
      "execution_count": null,
      "metadata": {},
      "outputs": [],
      "source": [
        "# Define the p, d and q parameters to take any value between 0 and 3\n",
        "p = d = q = range(0, 2)\n",
        "\n",
        "# Generate all different combinations of p, q and q triplets\n",
        "pdq = list(itertools.product(p, d, q))\n",
        "\n",
        "# Generate all different combinations of seasonal p, q and q triplets\n",
        "seasonal_pdq = [(x[0], x[1], x[2], 12) for x in list(itertools.product(p, d, q))]\n",
        "\n",
        "print('Examples of parameter combinations for Seasonal ARIMA: ')\n",
        "print('SARIMAX: {} x {}'.format(pdq[1], seasonal_pdq[1]))\n",
        "print('SARIMAX: {} x {}'.format(pdq[1], seasonal_pdq[2]))\n",
        "print('SARIMAX: {} x {}'.format(pdq[2], seasonal_pdq[3]))\n",
        "print('SARIMAX: {} x {}'.format(pdq[2], seasonal_pdq[4]))"
      ]
    },
    {
      "cell_type": "code",
      "execution_count": null,
      "metadata": {},
      "outputs": [],
      "source": [
        "# Determing p,d,q combinations with AIC scores.\n",
        "for param in pdq:\n",
        "    for param_seasonal in seasonal_pdq:\n",
        "        try:\n",
        "            mod = sm.tsa.statespace.SARIMAX(train_arima,\n",
        "                                            order=param,\n",
        "                                            seasonal_order=param_seasonal,\n",
        "                                            enforce_stationarity=False,\n",
        "                                            enforce_invertibility=False)\n",
        "\n",
        "            results = mod.fit()\n",
        "\n",
        "            print('ARIMA{}x{}12 - AIC:{}'.format(param, param_seasonal, results.aic))\n",
        "        except:\n",
        "            continue"
      ]
    },
    {
      "cell_type": "code",
      "execution_count": null,
      "metadata": {},
      "outputs": [],
      "source": [
        "# Fitting the data to SARIMA model \n",
        "model_sarima = sm.tsa.statespace.SARIMAX(train_arima,\n",
        "                                        order=(1, 1, 1),\n",
        "                                        seasonal_order=(1,1,1,12),\n",
        "                                        enforce_stationarity=False,\n",
        "                                        enforce_invertibility=False)\n",
        "results_sarima= model_sarima.fit()\n",
        "print(results_sarima.summary().tables[1])"
      ]
    },
    {
      "cell_type": "code",
      "execution_count": null,
      "metadata": {},
      "outputs": [],
      "source": [
        "# Checking diagnostic plots\n",
        "results_sarima.plot_diagnostics(figsize=(16, 10))\n",
        "plt.show()"
      ]
    },
    {
      "cell_type": "code",
      "execution_count": null,
      "metadata": {},
      "outputs": [],
      "source": [
        "from math import sqrt\n",
        "# Model prediction \n",
        "\n",
        "pred = results_sarima.get_prediction(start=pd.to_datetime('2015-1-4'), dynamic=False)\n",
        "\n",
        "# Get confidence interval of forecast \n",
        "pred_ci = pred.conf_int()\n",
        "\n",
        "ax = train_arima['2014':].plot(label='Observed', figsize=(15,7))\n",
        "pred.predicted_mean.plot(ax=ax, label='One step ahed Forecast', alpha=1)\n",
        "\n",
        "ax.fill_between(pred_ci.index, \n",
        "               pred_ci.iloc[:, 0],\n",
        "               pred_ci.iloc[:,1],\n",
        "               color='r', alpha=.1)\n",
        "\n",
        "ax.set_xlabel('Date')\n",
        "ax.set_ylabel('Sales')\n",
        "plt.legend()\n",
        "plt.show()\n",
        "\n",
        "train_arima_forecasted = pred.predicted_mean\n",
        "train_arima_truth = train_arima['2015-01-04':]\n",
        "\n",
        "rms_arima= sqrt(mean_squared_error(train_arima_truth,train_arima_forecasted))\n",
        "print('Root Mean Squared Error = ',rms_arima)"
      ]
    },
    {
      "cell_type": "markdown",
      "metadata": {},
      "source": [
        "### Second model : XGBoost"
      ]
    },
    {
      "cell_type": "code",
      "execution_count": null,
      "metadata": {},
      "outputs": [],
      "source": [
        "ts_xgboost = store_merged.copy()\n",
        "ts_xgboost = ts_xgboost.drop(['Customers', 'SalesPerCustomer'], axis=1)"
      ]
    },
    {
      "cell_type": "code",
      "execution_count": null,
      "metadata": {},
      "outputs": [],
      "source": [
        "ts_xgboost['CompetitionDistance'] = np.log1p(ts_xgboost['CompetitionDistance'])"
      ]
    },
    {
      "cell_type": "code",
      "execution_count": null,
      "metadata": {},
      "outputs": [],
      "source": [
        "ts_xgboost['CompetitionOpen'] = 12 * (ts_xgboost.Year - ts_xgboost.CompetitionOpenSinceYear) + (ts_xgboost.Month - ts_xgboost.CompetitionOpenSinceMonth)\n",
        "ts_xgboost['PromoOpen'] = 12 * (ts_xgboost.Year - ts_xgboost.Promo2SinceYear) + (ts_xgboost.WeekofYear - ts_xgboost.Promo2SinceWeek) / 4.0\n",
        "ts_xgboost = ts_xgboost.drop([\"CompetitionOpenSinceMonth\", \"CompetitionOpenSinceYear\"], axis = 1)\n",
        "ts_xgboost = ts_xgboost.drop([\"Promo2SinceWeek\", \"Promo2SinceYear\"], axis = 1)"
      ]
    },
    {
      "cell_type": "code",
      "execution_count": null,
      "metadata": {},
      "outputs": [],
      "source": [
        "ts_xgboost.info()"
      ]
    },
    {
      "cell_type": "code",
      "execution_count": null,
      "metadata": {},
      "outputs": [],
      "source": [
        "features = ts_xgboost.drop([\"Sales\"], axis = 1)\n",
        "target = ts_xgboost[\"Sales\"]\n",
        "\n",
        "X_train, X_test, y_train, y_test = model_selection.train_test_split(features, target, test_size = 0.20)"
      ]
    },
    {
      "cell_type": "code",
      "execution_count": null,
      "metadata": {},
      "outputs": [],
      "source": [
        "from xgboost import XGBRegressor\n",
        "import xgboost as xgb\n",
        "# Tuning parameters - using default metrics\n",
        "params = {'max_depth':6, \"booster\": \"gbtree\", 'eta':0.3, 'objective':'reg:linear'} \n",
        "\n",
        "dtrain = xgb.DMatrix(X_train, y_train)\n",
        "dtest = xgb.DMatrix(X_test, y_test)\n",
        "watchlist = [(dtrain, 'train'), (dtest, 'eval')]\n",
        "\n",
        "# Training the model\n",
        "xgboost = xgb.train(params, dtrain, 100, evals=watchlist,early_stopping_rounds= 100, verbose_eval=True)\n",
        "         \n",
        "# Making predictions\n",
        "preds = xgboost.predict(dtest)"
      ]
    },
    {
      "cell_type": "code",
      "execution_count": null,
      "metadata": {},
      "outputs": [],
      "source": [
        "rms_xgboost = sqrt(mean_squared_error(y_test, preds))\n",
        "print(\"Root Mean Squared Error for XGBoost:\", rms_xgboost)"
      ]
    },
    {
      "cell_type": "markdown",
      "metadata": {},
      "source": [
        "### SARIMA RMSE = 867.955 , XGBoost RMSE = 1170.682"
      ]
    }
  ],
  "metadata": {
    "colab": {
      "provenance": []
    },
    "kernelspec": {
      "display_name": "base",
      "language": "python",
      "name": "python3"
    },
    "language_info": {
      "codemirror_mode": {
        "name": "ipython",
        "version": 3
      },
      "file_extension": ".py",
      "mimetype": "text/x-python",
      "name": "python",
      "nbconvert_exporter": "python",
      "pygments_lexer": "ipython3",
      "version": "3.11.4"
    }
  },
  "nbformat": 4,
  "nbformat_minor": 0
}
